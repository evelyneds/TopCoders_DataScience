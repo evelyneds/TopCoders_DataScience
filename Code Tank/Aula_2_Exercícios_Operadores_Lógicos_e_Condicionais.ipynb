{
  "cells": [
    {
      "cell_type": "markdown",
      "source": [
        "\n",
        "#https://github.com/evelyneds"
      ],
      "metadata": {
        "id": "77Jo2nuXM7KO"
      }
    },
    {
      "cell_type": "code",
      "source": [
        "line = \"-------------------------------\\n\""
      ],
      "metadata": {
        "id": "PBCZ71FDgMzJ"
      },
      "execution_count": 1,
      "outputs": []
    },
    {
      "cell_type": "markdown",
      "metadata": {
        "id": "4LuGauI92F78"
      },
      "source": [
        "## Exercícios"
      ]
    },
    {
      "cell_type": "markdown",
      "metadata": {
        "id": "E82Mv3yY2F78"
      },
      "source": [
        "**1)** Um posto está vendendo combustíveis com a seguinte tabela de descontos: <br>\n",
        "\n",
        "Álcool:<br>\n",
        " - até 20 litros, desconto de 3% por litro\n",
        " - acima de 20 litros, desconto de 5% por litro <br>\n",
        " \n",
        "Gasolina:<br>\n",
        " - até 20 litros, desconto de 4% por litro\n",
        " - acima de 20 litros, desconto de 6% por litro. \n",
        " \n",
        "Escreva um algoritmo que leia o número de litros vendidos, o tipo de combustível (codificado da seguinte forma: A-álcool, G-gasolina), calcule e imprima o valor a ser pago pelo cliente sabendo-se que o preço do litro da gasolina é 2,50 reais o preço do litro do álcool é 1,90 reais."
      ]
    },
    {
      "cell_type": "code",
      "source": [
        "line = \"-------------------------------\\n\"\n",
        "print(\"Cálculo de custo de abastecimento\")\n",
        "print(line)\n",
        "\n",
        "preco_alcool = 1.90\n",
        "preco_gasolina = 2.50\n",
        "limite_litros_desconto = 20\n",
        "\n",
        "desconto_minimo_alcool = 0.03\n",
        "desconto_maximo_alcool = 0.05\n",
        "\n",
        "desconto_minimo_gasolina = 0.04\n",
        "desconto_maximo_gasolina = 0.06\n",
        "\n",
        "sigla_alcool = \"A\"\n",
        "sigla_gasolina = \"G\"\n",
        "sigla_sair = \"S\"\n",
        "\n",
        "litro = 0\n",
        "custo_total = 0\n",
        "\n",
        "tipo_combustivel = \"\"\n",
        "while not((tipo_combustivel == sigla_alcool) or (tipo_combustivel == sigla_gasolina ) or (tipo_combustivel == sigla_sair)):\n",
        "    tipo_combustivel = input(\"\\nInforme o tipo de combustível: A para álcool OU G para gasolina (para sair digite S): \").upper()\n",
        "\n",
        "if tipo_combustivel != sigla_sair:\n",
        "  litro = float(input(\"Informe a quantidade de litros abastecido: \"))\n",
        "\n",
        "  if tipo_combustivel == sigla_alcool:\n",
        "    if litro <= limite_litros_desconto:\n",
        "      preco = preco_alcool- (preco_alcool * desconto_minimo_alcool)\n",
        "    else:\n",
        "      preco = preco_alcool- (preco_alcool * desconto_maximo_alcool)\n",
        "  elif litro <= limite_litros_desconto:\n",
        "    preco = preco_gasolina - (preco_gasolina * desconto_minimo_gasolina)\n",
        "  else:\n",
        "    preco = preco_gasolina - (preco_gasolina * desconto_maximo_gasolina)\n",
        "  custo_total = (preco * litro)\n",
        "\n",
        "print(line)\n",
        "print(f\"O valor a ser pago por {litro} L. de combustível é de R$ {custo_total:.2f}\")\n"
      ],
      "metadata": {
        "colab": {
          "base_uri": "https://localhost:8080/"
        },
        "id": "qp7fOH6ONOJj",
        "outputId": "9e5a9613-0dec-4eb4-a9a4-c2068fed64e1"
      },
      "execution_count": 7,
      "outputs": [
        {
          "output_type": "stream",
          "name": "stdout",
          "text": [
            "Cálculo de custo de abastecimento\n",
            "-------------------------------\n",
            "\n",
            "\n",
            "Informe A para álcool OU G para gasolina (para sair digite S): e\n",
            "\n",
            "Informe A para álcool OU G para gasolina (para sair digite S): g\n",
            "Informe a quantidade de litros abastecido: 20\n",
            "-------------------------------\n",
            "\n",
            "O valor a ser pago por 20.0 L. de combustível é de R$ 48.00\n"
          ]
        }
      ]
    },
    {
      "cell_type": "markdown",
      "metadata": {
        "id": "81iJ8fJl2F79"
      },
      "source": [
        "**2)** Faça um programa que faça 5 perguntas para uma pessoa sobre um crime. As perguntas são:\n",
        "\n",
        "- \"Telefonou para a vítima?\"\n",
        "- \"Esteve no local do crime?\"\n",
        "- \"Mora perto da vítima?\"\n",
        "- \"Devia para a vítima?\"\n",
        "- \"Já trabalhou com a vítima?\"\n",
        "\n",
        "O programa deve no final emitir uma classificação sobre a participação da pessoa no crime. Se a pessoa responder positivamente a 2 questões ela deve ser classificada como \"Suspeita\", entre 3 e 4 como \"Cúmplice\" e 5 como \"Assassino\". Caso contrário, ele será classificado como \"Inocente\"."
      ]
    },
    {
      "cell_type": "code",
      "execution_count": null,
      "metadata": {
        "id": "iXEUqTLm2F79",
        "colab": {
          "base_uri": "https://localhost:8080/"
        },
        "outputId": "77244a56-35f7-486c-ed32-0ce80c211c2e"
      },
      "outputs": [
        {
          "output_type": "stream",
          "name": "stdout",
          "text": [
            "Classificação sobre a participação da pessoa no crime\n",
            "-------------------------------\n",
            "\n",
            "Telefonou para a vítima? Digite 0 para NÃO e 1 para SIM. 1\n",
            "Esteve no local do crime? Digite 0 para NÃO e 1 para SIM. 1\n",
            "Mora perto da vítima? Digite 0 para NÃO e 1 para SIM. 0\n",
            "Devia para a vítima? Digite 0 para NÃO e 1 para SIM. 0\n",
            "Já trabalhou com a vítima? Digite 0 para NÃO e 1 para SIM. 0\n",
            "De acordo com as respostas, a pessoa é classificada como: Suspeita\n"
          ]
        }
      ],
      "source": [
        "print(\"Classificação sobre a participação da pessoa no crime\")\n",
        "print(line)\n",
        "\n",
        "pergunta1 = int(input(\"Telefonou para a vítima? Digite 0 para NÃO e 1 para SIM. \"))\n",
        "pergunta2 = int(input(\"Esteve no local do crime? Digite 0 para NÃO e 1 para SIM. \"))\n",
        "pergunta3 = int(input(\"Mora perto da vítima? Digite 0 para NÃO e 1 para SIM. \"))\n",
        "pergunta4 = int(input(\"Devia para a vítima? Digite 0 para NÃO e 1 para SIM. \"))\n",
        "pergunta5 = int(input(\"Já trabalhou com a vítima? Digite 0 para NÃO e 1 para SIM. \"))\n",
        "\n",
        "total_respostas = pergunta1 + pergunta2 + pergunta3 + pergunta4 + pergunta5\n",
        "classificacao = \"N/A\"\n",
        "if total_respostas > 4 : classificacao = \"Assassino\"\n",
        "elif total_respostas >= 3 : classificacao = \"Cumplice\"\n",
        "elif total_respostas == 2 : classificacao = \"Suspeita\"\n",
        "\n",
        "print(f\"De acordo com as respostas, a pessoa é classificada como: {classificacao}\")"
      ]
    },
    {
      "cell_type": "markdown",
      "metadata": {
        "id": "oSfTAuAB2F79"
      },
      "source": [
        "**3)** Faça um Programa que leia um número inteiro menor que 1000 e imprima a quantidade de centenas, dezenas e unidades do mesmo. Observando os termos no plural a colocação do \"e\", da vírgula entre outros. Exemplo:\n",
        "\n",
        "326 = 3 centenas, 2 dezenas e 6 unidades <br>\n",
        "12 = 1 dezena e 2 unidades"
      ]
    },
    {
      "cell_type": "code",
      "source": [
        "print(\"Número por extenso\")\n",
        "print(line)\n",
        "\n",
        "numero = -1\n",
        "\n",
        "while (numero < 0 or numero > 999):\n",
        "  numero = int(input(\"Digite um número inteiro [> 0 e < 1000] a ser convertido para inteiro: \"))\n",
        "\n",
        "centena = ((numero // 100) % 10)\n",
        "dezena = ((numero // 10) % 10)\n",
        "unidade = ((numero // 1) % 10)\n",
        "\n",
        "plural =\"s\"\n",
        "numero_extenso = \"\"\n",
        "\n",
        "if (centena+dezena+unidade)==0: \n",
        "  print(\"Nulo\")\n",
        "\n",
        "#verifica e formata as centanas\n",
        "if centena > 0:\n",
        "  numero_extenso = numero_extenso + str(centena) + ' centena'\n",
        "  if centena > 1: numero_extenso = numero_extenso + plural\n",
        "\n",
        "#verifica e formata as dezenas\n",
        "if dezena > 0:\n",
        "  if (centena > 0):\n",
        "    if (unidade > 0): numero_extenso= numero_extenso+', '\n",
        "    if unidade == 0 : numero_extenso= numero_extenso+' e '\n",
        "\n",
        "  numero_extenso = numero_extenso + str(dezena) + ' dezena'\n",
        "  if dezena > 1: numero_extenso = numero_extenso + plural\n",
        "\n",
        "#verifica e formata as unidades\n",
        "if unidade > 0:\n",
        "  if (dezena > 0 or centena > 0): numero_extenso= numero_extenso+' e '\n",
        "  numero_extenso = numero_extenso + str(unidade) + ' unidade'\n",
        "  if unidade > 1: numero_extenso = numero_extenso + plural\n",
        "\n",
        "print(f\"O número {numero} por extenso é {numero_extenso}\")"
      ],
      "metadata": {
        "colab": {
          "base_uri": "https://localhost:8080/"
        },
        "id": "OGH3PDMn72fS",
        "outputId": "898197a0-c104-4c94-c3e5-7c8f11c7c46e"
      },
      "execution_count": 16,
      "outputs": [
        {
          "output_type": "stream",
          "name": "stdout",
          "text": [
            "Número por extenso\n",
            "-------------------------------\n",
            "\n",
            "Digite um número inteiro [> 0 e < 1000] a ser convertido para inteiro: 999\n",
            "O número 999 por extenso é 9 centenas, 9 dezenas e 9 unidades\n"
          ]
        }
      ]
    },
    {
      "cell_type": "markdown",
      "metadata": {
        "id": "CLZ4_Yt82F79"
      },
      "source": [
        "**4)** Faça um programa que calcule as raízes de uma equação do segundo grau, na forma:\n",
        "\n",
        "$ax^{2} + bx + c$ \n",
        "\n",
        "O programa deverá pedir os valores de a, b e c, informando ao usuário nas seguintes situações:\n",
        "\n",
        "Se o usuário informar o valor de A igual a zero, a equação não é do segundo grau e o programa não deve fazer pedir os demais valores, sendo encerrado;\n",
        "\n",
        "Se o delta calculado for negativo, a equação não possui raizes reais. Informe ao usuário e encerre o programa;\n",
        "\n",
        "Se o delta calculado for igual a zero a equação possui apenas uma raiz real; informe-a ao usuário;\n",
        "\n",
        "Se o delta for positivo, a equação possui duas raiz reais; informe-as ao usuário;"
      ]
    },
    {
      "cell_type": "code",
      "execution_count": 27,
      "metadata": {
        "id": "F3KDUuJ92F79",
        "colab": {
          "base_uri": "https://localhost:8080/"
        },
        "outputId": "b411d5c4-6468-4779-819e-f40c5959dbea"
      },
      "outputs": [
        {
          "output_type": "stream",
          "name": "stdout",
          "text": [
            "Cálculo de raiz de equação de 2° grau\n",
            "-------------------------------\n",
            "\n",
            "Entre com o valor de A: 1000\n",
            "Entre com o valor de B: -200\n",
            "Entre com o valor de C: -400\n",
            "A equação possui 2 raizes reais: 0.74 e -0.54\n"
          ]
        }
      ],
      "source": [
        "print(\"Cálculo de raiz de equação de 2° grau\")\n",
        "print(line)\n",
        "\n",
        "resultado = \"A equação não é de 2° grau\"\n",
        "\n",
        "a = float(input(\"Entre com o valor de A: \"))\n",
        "\n",
        "if a != 0:\n",
        "  b = float(input(\"Entre com o valor de B: \"))\n",
        "  c = float(input(\"Entre com o valor de C: \"))\n",
        "\n",
        "  delta = ((b ** 2) - 4 * a * c)\n",
        "\n",
        "  if delta < 0:\n",
        "    resultado = \"A equação não possui raizes reais.\", delta\n",
        "  elif delta == 0: \n",
        "    resultado = \"A equação possui apenas uma raíz real: \", delta\n",
        "  else:\n",
        "    raiz1 = ((-b + delta ** (0.5)) / (2 * a))\n",
        "    raiz2 = ((-b - delta ** (0.5)) / (2 * a))\n",
        "    resultado = f\"A equação possui 2 raizes reais: {raiz1:.2f} e {raiz2:.2f}\"\n",
        "\n",
        "print(resultado)"
      ]
    },
    {
      "cell_type": "markdown",
      "metadata": {
        "id": "Vf338eeP2F79"
      },
      "source": [
        "**5)** Faça um Programa que peça os 3 lados de um triângulo. O programa deverá informar se os valores podem ser um triângulo. Indique, caso os lados formem um triângulo, se o mesmo é: equilátero, isósceles ou escaleno.\n",
        "\n",
        "Dicas:\n",
        "- Três lados formam um triângulo quando a soma de quaisquer dois lados for maior que o terceiro;\n",
        "- Triângulo Equilátero: três lados iguais;\n",
        "- Triângulo Isósceles: quaisquer dois lados iguais;\n",
        "- Triângulo Escaleno: três lados diferentes;"
      ]
    },
    {
      "cell_type": "code",
      "execution_count": 33,
      "metadata": {
        "id": "lmyJmzYd2F7-",
        "colab": {
          "base_uri": "https://localhost:8080/"
        },
        "outputId": "d08eaa04-894e-4f85-a317-4eb9e9dda3ea"
      },
      "outputs": [
        {
          "output_type": "stream",
          "name": "stdout",
          "text": [
            "Identificação do tipo de triângulo\n",
            "-------------------------------\n",
            "\n",
            "Digite o lado 1 do triângulo: 8\n",
            "Digite o lado 2 do triângulo: 9\n",
            "Digite o lado 3 do triângulo: 10\n",
            "Triângulo escaleno\n"
          ]
        }
      ],
      "source": [
        "print(\"Identificação do tipo de triângulo\")\n",
        "print(line)\n",
        "\n",
        "lado_1 = float(input(\"Digite o lado 1 do triângulo: \"))\n",
        "lado_2 = float(input(\"Digite o lado 2 do triângulo: \"))\n",
        "lado_3 = float(input(\"Digite o lado 3 do triângulo: \"))\n",
        "\n",
        "if (lado_1 + lado_2 < lado_3) or (lado_1 + lado_3 < lado_2) or (lado_2 + lado_3 < lado_1) or ((lado_1 + lado_2 + lado_3) < 0):\n",
        "        print('As medidas informadas não formam um triângulo')\n",
        "elif lado_1 == lado_2 == lado_3: print(\"Triângulo Equilátero\")\n",
        "elif ((lado_1 == lado_2) or (lado_2 == lado_3) or (lado_3 == lado_1)): print(\"Triângulo Isóceles\")\n",
        "else: print(\"Triângulo escaleno\")\n"
      ]
    }
  ],
  "metadata": {
    "kernelspec": {
      "display_name": "Python 3",
      "language": "python",
      "name": "python3"
    },
    "language_info": {
      "codemirror_mode": {
        "name": "ipython",
        "version": 3
      },
      "file_extension": ".py",
      "mimetype": "text/x-python",
      "name": "python",
      "nbconvert_exporter": "python",
      "pygments_lexer": "ipython3",
      "version": "3.8.5"
    },
    "colab": {
      "name": "Aula 2 Exercícios- Operadores Lógicos e Condicionais.ipynb",
      "provenance": [],
      "collapsed_sections": []
    }
  },
  "nbformat": 4,
  "nbformat_minor": 0
}