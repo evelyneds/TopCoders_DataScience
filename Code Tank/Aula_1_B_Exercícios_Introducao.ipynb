{
  "cells": [
    {
      "cell_type": "markdown",
      "metadata": {
        "id": "ksWegZoKs1PA"
      },
      "source": [
        "## 🎯 Exercícios 🎯 <a class=\"anchor\" id=\"cinco\"></a>\n"
      ]
    },
    {
      "cell_type": "code",
      "source": [
        "line = \"-------------------------------\\n\""
      ],
      "metadata": {
        "id": "Tm6GOcnxRbVW"
      },
      "execution_count": 2,
      "outputs": []
    },
    {
      "cell_type": "markdown",
      "source": [
        "**1)** Faça um Programa que mostre a mensagem \"Alo mundo\" na tela."
      ],
      "metadata": {
        "id": "mS4J24P9RX6v"
      }
    },
    {
      "cell_type": "code",
      "execution_count": null,
      "metadata": {
        "id": "Ajg4JjQSs1PA",
        "colab": {
          "base_uri": "https://localhost:8080/"
        },
        "outputId": "57ad2247-e4b0-4499-fe09-22126c96fdcf"
      },
      "outputs": [
        {
          "output_type": "stream",
          "name": "stdout",
          "text": [
            "Alô mundo\n"
          ]
        }
      ],
      "source": [
        "print(\"Alô mundo\")"
      ]
    },
    {
      "cell_type": "markdown",
      "metadata": {
        "id": "UbK0yPCys1PB"
      },
      "source": [
        "**2)** Faça um Programa que peça as 4 notas bimestrais e mostre a média."
      ]
    },
    {
      "cell_type": "code",
      "execution_count": 3,
      "metadata": {
        "id": "6Q6tE9z9s1PB",
        "outputId": "c57a88db-0ffd-4ac7-f4c4-ec13dadf6350",
        "colab": {
          "base_uri": "https://localhost:8080/"
        }
      },
      "outputs": [
        {
          "output_type": "stream",
          "name": "stdout",
          "text": [
            "Cálculo de notas escolares\n",
            "-------------------------------\n",
            "\n",
            "Você precisará inserir 4 nota(s): \n",
            "\n",
            "Digite a nota 1: 10\n",
            "Digite a nota 2: 8\n",
            "Digite a nota 3: 9\n",
            "Digite a nota 4: 8\n",
            "\n",
            " A média da nota é 8.75 \n"
          ]
        }
      ],
      "source": [
        "print(\"Cálculo de notas escolares\")\n",
        "print(line)\n",
        "\n",
        "qtd_nota = 4\n",
        "#qtd_nota= int(input(f'Informe a quantiidade de notas que deseja inserir: '))\n",
        "soma = 0\n",
        "\n",
        "print(f\"Você precisará inserir {qtd_nota} nota(s): \\n\")\n",
        "for i in range(qtd_nota):\n",
        "    nota = float(input(f\"Digite a nota {i + 1}: \"))\n",
        "    soma = soma + nota\n",
        "\n",
        "media_nota = soma / qtd_nota\n",
        "\n",
        "print(f\"\\n A média da nota é {media_nota:.2f} \")"
      ]
    },
    {
      "cell_type": "markdown",
      "metadata": {
        "id": "ED1eOWnfs1PB"
      },
      "source": [
        "**3)** Faça um Programa que pergunte quanto você ganha por hora e o número de horas trabalhadas no mês. Calcule e mostre o total do seu salário no referido mês."
      ]
    },
    {
      "cell_type": "code",
      "execution_count": null,
      "metadata": {
        "id": "elBT1_j-s1PB",
        "colab": {
          "base_uri": "https://localhost:8080/"
        },
        "outputId": "24c3f42d-cac6-4546-fcce-3c1139bd1b5d"
      },
      "outputs": [
        {
          "output_type": "stream",
          "name": "stdout",
          "text": [
            "Cálculo de salário de horas trabalhadas\n",
            "-------------------------------\n",
            "\n",
            "Informe o valor (R$) ganho por hora: R$ 60\n",
            "Informe número de ordens trabalhadas: 92\n",
            "\n",
            " O salário a receber será de R$ 5520.00 \n",
            "\n"
          ]
        }
      ],
      "source": [
        "print(\"Cálculo de salário de horas trabalhadas\")\n",
        "print(line)\n",
        "\n",
        "valor_hora = float(input(f\"Informe o valor (R$) ganho por hora: R$ \"))\n",
        "horas_trabalhadas = float(input(f\"Informe número de ordens trabalhadas: \"))\n",
        "\n",
        "salario_receber = valor_hora * horas_trabalhadas\n",
        "\n",
        "print(f\"\\n O salário a receber será de R$ {salario_receber:.2f} \\n\")"
      ]
    },
    {
      "cell_type": "markdown",
      "metadata": {
        "id": "d4cKZGA5s1PC"
      },
      "source": [
        "**4)** Faça um Programa que peça a temperatura em graus Fahrenheit, transforme e mostre a temperatura em graus Celsius.<br>\n",
        "\n",
        "$$ C = \\frac{5 * (F-32)}{9} $$"
      ]
    },
    {
      "cell_type": "code",
      "execution_count": null,
      "metadata": {
        "id": "_xL0P4KFs1PC",
        "colab": {
          "base_uri": "https://localhost:8080/"
        },
        "outputId": "68a0e602-c9de-451d-8082-0c5914245c3b"
      },
      "outputs": [
        {
          "output_type": "stream",
          "name": "stdout",
          "text": [
            "Conversão de graus °F em °C\n",
            "-------------------------------\n",
            "\n",
            "Informe a temperatura em graus Fahrenheit: 80\n",
            "\n",
            " A temperatura é de 26.67 °C\n",
            "\n"
          ]
        }
      ],
      "source": [
        "print(\"Conversão de graus °F em °C\")\n",
        "print(line)\n",
        "\n",
        "temp_f = float(input(f\"Informe a temperatura em graus Fahrenheit: \"))\n",
        "temp_c = ( 5 * (temp_f - 32 )) /9\n",
        "\n",
        "print(f\"\\n A temperatura é de {temp_c:.2f} °C\\n\")"
      ]
    },
    {
      "cell_type": "markdown",
      "metadata": {
        "id": "_LFfv-s2Ax2o"
      },
      "source": [
        "**5)** Faça um programa que pede um número e imprime a tabuada de desse número."
      ]
    },
    {
      "cell_type": "code",
      "execution_count": null,
      "metadata": {
        "id": "-p5CTJxiAx2o",
        "colab": {
          "base_uri": "https://localhost:8080/"
        },
        "outputId": "91233396-824a-4ef6-cf82-2386bc86bf97"
      },
      "outputs": [
        {
          "output_type": "stream",
          "name": "stdout",
          "text": [
            "Tabuada\n",
            "-------------------------------\n",
            "\n",
            "Informe o fator da multiplicação: 8\n",
            "0 x 8 = 0\n",
            "1 x 8 = 8\n",
            "2 x 8 = 16\n",
            "3 x 8 = 24\n",
            "4 x 8 = 32\n",
            "5 x 8 = 40\n",
            "6 x 8 = 48\n",
            "7 x 8 = 56\n",
            "8 x 8 = 64\n",
            "9 x 8 = 72\n",
            "10 x 8 = 80\n"
          ]
        }
      ],
      "source": [
        "print(\"Tabuada\")\n",
        "print(line)\n",
        "\n",
        "fator_final = 10\n",
        "#fator_final= int(input(f\"Informe o número de elementos a multiplicar: \"\"))\n",
        "\n",
        "fator = int(input(\"Informe o fator da multiplicação: \"))\n",
        "for i in range(0,fator_final+1):\n",
        "    print(f'{i} x {fator} = {i*fator}')"
      ]
    },
    {
      "cell_type": "markdown",
      "metadata": {
        "id": "0WjyN3o2s1PC"
      },
      "source": [
        "**6)** Faça um Programa que pergunte quanto você ganha por hora e o número de horas trabalhadas no mês. Calcule e mostre o total do seu salário no referido mês, sabendo-se que são descontados 11% para o Imposto de Renda, 8% para o INSS e 5% para o sindicato, faça um programa que nos dê:\n",
        "- Salário bruto.\n",
        "- Quanto pagou ao INSS.\n",
        "- Quanto pagou ao sindicato.\n",
        "- O salário líquido."
      ]
    },
    {
      "cell_type": "code",
      "execution_count": null,
      "metadata": {
        "id": "jUAsGTQ-s1PC",
        "colab": {
          "base_uri": "https://localhost:8080/"
        },
        "outputId": "2aa6d643-d56b-4ec5-827c-5cb7b456f745"
      },
      "outputs": [
        {
          "output_type": "stream",
          "name": "stdout",
          "text": [
            "Cálculo trabalhista\n",
            "-------------------------------\n",
            "\n",
            "Informe o valor (R$) ganho por hora: R$ 30\n",
            "Informe número de ordens trabalhadas: 96\n",
            "\n",
            "\n",
            "Salário bruto R$ 2880.00\n",
            "Quanto pagou ao INSS R$ -230.40\n",
            "Quanto pagou ao sindicato R$ -144.00\n",
            "salário líquido R$ 2188.80\n",
            "\n"
          ]
        }
      ],
      "source": [
        "print(\"Cálculo trabalhista\")\n",
        "print(line)\n",
        "\n",
        "valor_hora = float(input(f\"Informe o valor (R$) ganho por hora: R$ \"))\n",
        "horas_trabalhadas = float(input(f\"Informe número de ordens trabalhadas: \"))\n",
        "\n",
        "salario_bruto = valor_hora * horas_trabalhadas\n",
        "total_ir = (salario_bruto * 0.11) * -1\n",
        "total_inss = (salario_bruto * 0.08) * -1\n",
        "total_sindicato = (salario_bruto * 0.05) * -1\n",
        "salario_liquido = salario_bruto + total_ir + total_inss + total_sindicato\n",
        "\n",
        "print(f\"\"\"\\n\n",
        "Salário bruto R$ {salario_bruto:.2f}\n",
        "Quanto pagou ao INSS R$ {total_inss:.2f}\n",
        "Quanto pagou ao sindicato R$ {total_sindicato:.2f}\n",
        "salário líquido R$ {salario_liquido:.2f}\n",
        "\"\"\")\n"
      ]
    },
    {
      "cell_type": "markdown",
      "metadata": {
        "id": "AaZKq2Wfs1PC"
      },
      "source": [
        "**7)** João Papo-de-Pescador, homem de bem, comprou um microcomputador para controlar o rendimento diário de seu trabalho. Toda vez que ele traz um peso de peixes maior que o estabelecido pelo regulamento de pesca do estado de São Paulo (50 quilos) deve pagar uma multa de R$ 4,00 por quilo excedente. João precisa que você faça um programa que leia a variável peso (peso de peixes) e calcule o excesso. Gravar na variável excesso a quantidade de quilos além do limite e na variável multa o valor da multa que João deverá pagar. Imprima os dados do programa com as mensagens adequadas."
      ]
    },
    {
      "cell_type": "code",
      "execution_count": 7,
      "metadata": {
        "id": "lvQpZRQKs1PC",
        "colab": {
          "base_uri": "https://localhost:8080/"
        },
        "outputId": "85eeb56b-70bd-4a1e-c421-fe4df3dbf77f"
      },
      "outputs": [
        {
          "output_type": "stream",
          "name": "stdout",
          "text": [
            "Cálculo de pescador\n",
            "-------------------------------\n",
            "\n",
            "Informe o Kg total da pesca: 55\n",
            "O limite máximo de 50kg foi excedido em 5.0 kg.\n",
            "A multa a pagar é de R$ 20.00 \n",
            "\n"
          ]
        }
      ],
      "source": [
        "print(\"Cálculo de pescador\")\n",
        "print(line)\n",
        "\n",
        "limite = 50\n",
        "multa_por_kg = 4\n",
        "\n",
        "peso = float(input(\"Informe o Kg total da pesca: \"))\n",
        "diferenca = max(peso - limite, 0 )\n",
        "\n",
        "if peso <= limite:\n",
        "    print(\"Pesagem dentro do limite. Não há multa a ser paga.\\n\")\n",
        "else:\n",
        "    excesso = peso - limite\n",
        "    multa = excesso * multa_por_kg\n",
        "    print(f\"O limite máximo de {limite}kg foi excedido em {excesso} kg.\\nA multa a pagar é de R$ {multa:.2f} \\n\")"
      ]
    },
    {
      "cell_type": "markdown",
      "metadata": {
        "id": "70DJrG3ds1PD"
      },
      "source": [
        "**8)** Faça um Programa para uma loja de tintas. O programa deverá pedir o tamanho em metros quadrados da área a ser pintada. Considere que a cobertura da tinta é de 1 litro para cada 6 metros quadrados e que a tinta é vendida em latas de 18 litros, que custam 80,00 reais ou em galões de 3,6 litros, que custam 25,00 reais.<br>\n",
        "&emsp; Informe ao usuário as quantidades de tinta a serem compradas e os respectivos preços em 3 situações:\n",
        "- Comprar apenas latas de 18 litros;\n",
        "- Comprar apenas galões de 3,6 litros;\n",
        "- Misturar latas e galões, de forma que o desperdício de tinta seja menor. Podem considerar latas pela metade (valores decimais para quantidade de latas)"
      ]
    },
    {
      "cell_type": "code",
      "execution_count": 20,
      "metadata": {
        "id": "JvBYJ4Fks1PD",
        "colab": {
          "base_uri": "https://localhost:8080/"
        },
        "outputId": "02b8b039-250c-4f61-ba05-d0d9a801bd09"
      },
      "outputs": [
        {
          "output_type": "stream",
          "name": "stdout",
          "text": [
            "Loja de tintas\n",
            "-------------------------------\n",
            "\n",
            "Informe o tamanho em m² da área a ser pintada: 550\n",
            "\n",
            "Latas de 18 litros: 6 , custo total R$ 480.00 \n",
            "Galão de 3.6 litros: 26 , custo total R$  650.00 \n",
            "Modo econômico: 5  lata(s) e 1 galão(ões), custo total R$ 425.00 \n"
          ]
        }
      ],
      "source": [
        "print(\"Loja de tintas\")\n",
        "print(line)\n",
        "\n",
        "\n",
        "def arredondar(litros, tamanho):\n",
        "  return int((litros_total / tamanho) + (0 if (litros_total / tamanho) % 1 ==  0 else 1))\n",
        "  #funcao criada para nao usar funcoes prontas\n",
        "\n",
        "#int(-(-x // 1))\n",
        "preco_lata = 80\n",
        "preco_galao = 25\n",
        "\n",
        "tamanho_lata = 18\n",
        "tamanho_galao = 3.6\n",
        "\n",
        "area_total = float(input(\"Informe o tamanho em m² da área a ser pintada: \"))\n",
        "\n",
        "litros_total = area_total / 6\n",
        "\n",
        "lata = arredondar(litros_total /tamanho_lata, tamanho_lata)\n",
        "galao = arredondar(litros_total /tamanho_galao, tamanho_galao)\n",
        "\n",
        "print(f\"\\nLatas de {tamanho_lata} litros: {lata} , custo total R${lata * preco_lata: .2f} \")\n",
        "print(f\"Galão de {tamanho_galao} litros: {galao} , custo total R$ {galao * preco_galao: .2f} \")\n",
        "\n",
        "\n",
        "# Misturando\n",
        "lata = int(litros_total / tamanho_lata)\n",
        "restante = litros_total - (lata * tamanho_lata)\n",
        "galao = int(restante / tamanho_galao) + (restante % tamanho_galao > 0)\n",
        "\n",
        "preco_mistura = (lata * preco_lata) + (galao * preco_galao)\n",
        "\n",
        "print(f\"Modo econômico: {lata}  lata(s) e {galao} galão(ões), custo total R$ {preco_mistura:.2f} \")\n",
        "\n"
      ]
    }
  ],
  "metadata": {
    "colab": {
      "name": "Aula 1 B - Exercícios - Introducao.ipynb",
      "provenance": [],
      "collapsed_sections": []
    },
    "kernelspec": {
      "display_name": "Python 3",
      "language": "python",
      "name": "python3"
    },
    "language_info": {
      "codemirror_mode": {
        "name": "ipython",
        "version": 3
      },
      "file_extension": ".py",
      "mimetype": "text/x-python",
      "name": "python",
      "nbconvert_exporter": "python",
      "pygments_lexer": "ipython3",
      "version": "3.8.5"
    }
  },
  "nbformat": 4,
  "nbformat_minor": 0
}